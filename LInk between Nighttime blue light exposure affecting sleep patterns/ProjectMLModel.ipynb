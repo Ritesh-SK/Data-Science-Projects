{
 "cells": [
  {
   "cell_type": "markdown",
   "id": "437e7c41-437e-4870-81bd-1c1862dbe566",
   "metadata": {},
   "source": [
    "#                                      Machine Learning Modelling"
   ]
  },
  {
   "cell_type": "markdown",
   "id": "f38d6d7f",
   "metadata": {},
   "source": [
    "### import necessary libraries"
   ]
  },
  {
   "cell_type": "code",
   "execution_count": 102,
   "id": "0d8f9567-528f-4882-b54b-2a3dc289d74c",
   "metadata": {},
   "outputs": [],
   "source": [
    "import pandas as pd\n",
    "import matplotlib.pyplot as plt\n",
    "import seaborn as sns\n",
    "import numpy as np\n",
    "from sklearn.preprocessing import LabelEncoder, StandardScaler\n",
    "from sklearn.model_selection import train_test_split\n",
    "from sklearn.linear_model import LinearRegression\n",
    "from sklearn.linear_model import LogisticRegression\n",
    "from sklearn.ensemble import RandomForestClassifier\n",
    "from sklearn.svm import SVR\n",
    "from sklearn.metrics import mean_squared_error, r2_score,accuracy_score"
   ]
  },
  {
   "cell_type": "markdown",
   "id": "c7fbe0de",
   "metadata": {},
   "source": [
    "### Loading and Cleaning the dataset"
   ]
  },
  {
   "cell_type": "code",
   "execution_count": 47,
   "id": "d25d6243-a394-4d2c-8ed3-38e6773b4ef5",
   "metadata": {},
   "outputs": [],
   "source": [
    "df = pd.read_csv('Data Science Capstone Project (Responses).csv')"
   ]
  },
  {
   "cell_type": "code",
   "execution_count": 48,
   "id": "ac24a9a7-8909-4504-998c-b445208acdb2",
   "metadata": {},
   "outputs": [],
   "source": [
    "df.columns = df.columns.str.strip()"
   ]
  },
  {
   "cell_type": "code",
   "execution_count": 49,
   "id": "1400ae51-2920-4119-9af7-af4c8c7fcb9d",
   "metadata": {},
   "outputs": [],
   "source": [
    "df.rename(columns={\n",
    "    'On average, how many hours do you spend on screens after 10:00 PM?': 'ScreenTime',\n",
    "    'Do you use night mode or a blue-light filter on your devices in the evening?': 'NightMode',\n",
    "    'How often do you multitask on multiple screens (e.g., TV + phone) at night?': 'Multitasking'\n",
    "}, inplace=True)"
   ]
  },
  {
   "cell_type": "code",
   "execution_count": 50,
   "id": "359ed343-f8c0-4ff7-8f54-bfb4ce9c02cb",
   "metadata": {},
   "outputs": [],
   "source": [
    "night_mode_map = {'Never': 0, 'Rarely': 1, 'Sometimes': 2, 'Always': 3}\n",
    "multitask_map = {'Never': 0, 'Rarely': 1, 'Occasionally': 2, 'Always': 3}"
   ]
  },
  {
   "cell_type": "code",
   "execution_count": 51,
   "id": "ac3a9126-2e5a-43c7-ba21-121b7fb6bdf2",
   "metadata": {},
   "outputs": [],
   "source": [
    "df['NightModeScore'] = df['NightMode'].map(night_mode_map)\n",
    "df['MultitaskScore'] = df['Multitasking'].map(multitask_map)"
   ]
  },
  {
   "cell_type": "code",
   "execution_count": 52,
   "id": "5f104a80-5f6d-46a2-a29f-7d13e970f7fe",
   "metadata": {},
   "outputs": [
    {
     "name": "stdout",
     "output_type": "stream",
     "text": [
      "All Columns:\n",
      "\n",
      "1. 'Timestamp'\n",
      "2. 'Email Address'\n",
      "3. 'Name'\n",
      "4. 'Date of Birth'\n",
      "5. 'Gender'\n",
      "6. 'Field of Study'\n",
      "7. 'At what time do you typically stop using screens (phone/laptop/TV) at night?'\n",
      "8. 'ScreenTime'\n",
      "9. 'NightMode'\n",
      "10. 'Multitasking'\n",
      "11. 'What is your primary screen activity at night?'\n",
      "12. 'How long does it usually take you to fall asleep after turning off screens? (in minutes)'\n",
      "13. 'On average, how many hours of sleep do you get on weekdays?'\n",
      "14. 'How often do you wake up during the night?'\n",
      "15. 'Do you feel well-rested after waking up in the morning?'\n",
      "16. 'Do you use screens in bed before sleeping?'\n",
      "17. 'Do you fall asleep while using a screen (e.g., phone, laptop, TV)?'\n",
      "18. 'Do you wake up at night to check your phone or other devices?'\n",
      "19. 'Is your room completely dark while sleeping?'\n",
      "20. 'Do you follow a consistent sleep schedule (same sleep/wake time daily)?'\n",
      "21. 'Do you consume caffeine (e.g., coffee, energy drinks) after 6 PM?'\n",
      "22. 'How would you rate your overall experience completing this survey?'\n",
      "23. 'NightModeScore'\n",
      "24. 'MultitaskScore'\n"
     ]
    }
   ],
   "source": [
    "print(\"All Columns:\\n\")\n",
    "for i, col in enumerate(df.columns):\n",
    "    print(f\"{i+1}. {repr(col)}\")"
   ]
  },
  {
   "cell_type": "code",
   "execution_count": 53,
   "id": "ba8da002-0849-4e4f-98ad-1ac1aca5249e",
   "metadata": {},
   "outputs": [],
   "source": [
    "np.random.seed(42)\n",
    "df['HealthScore'] = 10 - df['ScreenTime'] + (0.5 * df['NightModeScore']) - (0.7 * df['MultitaskScore']) + np.random.normal(0, 1, len(df))\n",
    "df['HealthScore'] = df['HealthScore'].clip(lower=1, upper=10).round(1)"
   ]
  },
  {
   "cell_type": "code",
   "execution_count": 54,
   "id": "dfc99a91-5638-4d72-bee6-dd876d05cfae",
   "metadata": {},
   "outputs": [],
   "source": [
    "df_clean = df[['ScreenTime', 'NightModeScore', 'MultitaskScore', 'HealthScore']].dropna()"
   ]
  },
  {
   "cell_type": "markdown",
   "id": "0b487a43",
   "metadata": {},
   "source": [
    "## LINEAR REGRESSION"
   ]
  },
  {
   "cell_type": "code",
   "execution_count": 55,
   "id": "edf63a02-0252-40ea-8eb4-ccb4c6f3d89a",
   "metadata": {},
   "outputs": [],
   "source": [
    "X = df_clean[['ScreenTime', 'NightModeScore', 'MultitaskScore']]\n",
    "y = df_clean['HealthScore']\n",
    "X_train, X_test, y_train, y_test = train_test_split(X, y, test_size=0.2, random_state=42)"
   ]
  },
  {
   "cell_type": "code",
   "execution_count": 56,
   "id": "8e5c5ddc-c4fc-4af5-93fa-aac486b88d7b",
   "metadata": {},
   "outputs": [],
   "source": [
    "model = LinearRegression()\n",
    "model.fit(X_train, y_train)\n",
    "y_pred = model.predict(X_test)"
   ]
  },
  {
   "cell_type": "code",
   "execution_count": 57,
   "id": "26501fc1-441c-4735-b0c3-a288fb29323d",
   "metadata": {},
   "outputs": [
    {
     "name": "stdout",
     "output_type": "stream",
     "text": [
      "Mean Squared Error: 1.8734204607775466\n",
      "R2 Score: 0.5781484066095435\n",
      "Model Coefficients: [-0.84941845  0.54361319 -0.5220124 ]\n",
      "Intercept: 9.252335423228295\n"
     ]
    }
   ],
   "source": [
    "print(\"Mean Squared Error:\", mean_squared_error(y_test, y_pred))\n",
    "print(\"R2 Score:\", r2_score(y_test, y_pred))\n",
    "print(\"Model Coefficients:\", model.coef_)\n",
    "print(\"Intercept:\", model.intercept_)"
   ]
  },
  {
   "cell_type": "code",
   "execution_count": 58,
   "id": "363d8d9e-dea6-4e17-88e6-8f86ee790585",
   "metadata": {},
   "outputs": [],
   "source": [
    "def regression_plot(x, y, x_label, title):\n",
    "    sns.regplot(x=x, y=y, ci=None, line_kws={'color': 'red'})\n",
    "    plt.xlabel(x_label)\n",
    "    plt.ylabel('Health Score')\n",
    "    plt.title(title)\n",
    "    plt.grid(True)\n",
    "    plt.show()"
   ]
  },
  {
   "cell_type": "code",
   "execution_count": 59,
   "id": "80508b06-26e9-4aaf-b22d-ed852b97e8d2",
   "metadata": {},
   "outputs": [
    {
     "data": {
      "image/png": "[encoded data removed]",
      "text/plain": [
       "<Figure size 640x480 with 1 Axes>"
      ]
     },
     "metadata": {},
     "output_type": "display_data"
    }
   ],
   "source": [
    "regression_plot(df_clean['ScreenTime'], df_clean['HealthScore'], 'Screen Time (hrs/day)', 'Screen Time vs Health Score')"
   ]
  },
  {
   "cell_type": "code",
   "execution_count": 60,
   "id": "9265646b-96c3-42b6-b69c-767a20108aa3",
   "metadata": {},
   "outputs": [
    {
     "data": {
      "image/png": "[encoded data removed]",
      "text/plain": [
       "<Figure size 640x480 with 1 Axes>"
      ]
     },
     "metadata": {},
     "output_type": "display_data"
    }
   ],
   "source": [
    "regression_plot(df_clean['MultitaskScore'], df_clean['HealthScore'], 'Multitasking Score (0–3)', 'Multitasking vs Health Score')"
   ]
  },
  {
   "cell_type": "code",
   "execution_count": 17,
   "id": "14f2ed5f-09c7-40b3-8f9b-3b93144049e1",
   "metadata": {},
   "outputs": [
    {
     "data": {
      "image/png": "[encoded data removed]",
      "text/plain": [
       "<Figure size 640x480 with 1 Axes>"
      ]
     },
     "metadata": {},
     "output_type": "display_data"
    }
   ],
   "source": [
    "regression_plot(df_clean['NightModeScore'], df_clean['HealthScore'], 'Night Mode Usage Score (0–3)', 'Night Mode Usage vs Health Score')"
   ]
  },
  {
   "cell_type": "markdown",
   "id": "8439c8b1",
   "metadata": {},
   "source": [
    "### SVR AND RANDOM FOREST MODELS"
   ]
  },
  {
   "cell_type": "code",
   "execution_count": 71,
   "id": "83747b1f",
   "metadata": {},
   "outputs": [],
   "source": [
    "df_cleaned = df.drop(columns=[\"Timestamp\", \"Email Address\", \"Name\", \"Date of Birth\"])"
   ]
  },
  {
   "cell_type": "code",
   "execution_count": 72,
   "id": "41fb1c95",
   "metadata": {},
   "outputs": [],
   "source": [
    "df_cleaned[\"Poor Sleep\"] = np.where(\n",
    "    (df_cleaned[\"How long does it usually take you to fall asleep after turning off screens? (in minutes)\"] > 30) |\n",
    "    (df_cleaned[\"On average, how many hours of sleep do you get on weekdays?\"] < 6.5) |\n",
    "    (df_cleaned[\"How often do you wake up during the night?\"].isin([\"2–3 times\", \"More than 3 times\"])) |\n",
    "    (df_cleaned[\"Do you feel well-rested after waking up in the morning?\"] == \"Rarely\"),\n",
    "    1, 0\n",
    ")\n"
   ]
  },
  {
   "cell_type": "markdown",
   "id": "718c6ada",
   "metadata": {},
   "source": [
    "#### Selecting relevant columns"
   ]
  },
  {
   "cell_type": "code",
   "execution_count": 73,
   "id": "a00989ff",
   "metadata": {},
   "outputs": [],
   "source": [
    "selected_columns = [\n",
    "    'ScreenTime',\n",
    "    'NightModeScore',\n",
    "    'MultitaskScore',\n",
    "    'How long does it usually take you to fall asleep after turning off screens? (in minutes)',\n",
    "    'On average, how many hours of sleep do you get on weekdays?',\n",
    "    'How often do you wake up during the night?',\n",
    "    'Do you feel well-rested after waking up in the morning?'\n",
    "]"
   ]
  },
  {
   "cell_type": "code",
   "execution_count": 75,
   "id": "2502313a",
   "metadata": {},
   "outputs": [],
   "source": [
    "df_model = df_cleaned[selected_columns + ['Poor Sleep']]"
   ]
  },
  {
   "cell_type": "code",
   "execution_count": 83,
   "id": "02bf619a",
   "metadata": {},
   "outputs": [
    {
     "data": {
      "text/html": [
       "<div>\n",
       "<style scoped>\n",
       "    .dataframe tbody tr th:only-of-type {\n",
       "        vertical-align: middle;\n",
       "    }\n",
       "\n",
       "    .dataframe tbody tr th {\n",
       "        vertical-align: top;\n",
       "    }\n",
       "\n",
       "    .dataframe thead th {\n",
       "        text-align: right;\n",
       "    }\n",
       "</style>\n",
       "<table border=\"1\" class=\"dataframe\">\n",
       "  <thead>\n",
       "    <tr style=\"text-align: right;\">\n",
       "      <th></th>\n",
       "      <th>ScreenTime</th>\n",
       "      <th>NightModeScore</th>\n",
       "      <th>MultitaskScore</th>\n",
       "      <th>How long does it usually take you to fall asleep after turning off screens? (in minutes)</th>\n",
       "      <th>On average, how many hours of sleep do you get on weekdays?</th>\n",
       "      <th>How often do you wake up during the night?</th>\n",
       "      <th>Do you feel well-rested after waking up in the morning?</th>\n",
       "      <th>Poor Sleep</th>\n",
       "    </tr>\n",
       "  </thead>\n",
       "  <tbody>\n",
       "    <tr>\n",
       "      <th>0</th>\n",
       "      <td>4.0</td>\n",
       "      <td>1</td>\n",
       "      <td>2.0</td>\n",
       "      <td>10</td>\n",
       "      <td>7.0</td>\n",
       "      <td>More than 3 times</td>\n",
       "      <td>Often</td>\n",
       "      <td>1</td>\n",
       "    </tr>\n",
       "    <tr>\n",
       "      <th>1</th>\n",
       "      <td>1.0</td>\n",
       "      <td>1</td>\n",
       "      <td>NaN</td>\n",
       "      <td>30</td>\n",
       "      <td>12.0</td>\n",
       "      <td>Never</td>\n",
       "      <td>Often</td>\n",
       "      <td>0</td>\n",
       "    </tr>\n",
       "    <tr>\n",
       "      <th>2</th>\n",
       "      <td>5.0</td>\n",
       "      <td>1</td>\n",
       "      <td>2.0</td>\n",
       "      <td>20</td>\n",
       "      <td>7.0</td>\n",
       "      <td>Never</td>\n",
       "      <td>Always</td>\n",
       "      <td>0</td>\n",
       "    </tr>\n",
       "    <tr>\n",
       "      <th>3</th>\n",
       "      <td>3.0</td>\n",
       "      <td>2</td>\n",
       "      <td>2.0</td>\n",
       "      <td>30</td>\n",
       "      <td>8.0</td>\n",
       "      <td>Once</td>\n",
       "      <td>Often</td>\n",
       "      <td>0</td>\n",
       "    </tr>\n",
       "    <tr>\n",
       "      <th>4</th>\n",
       "      <td>2.0</td>\n",
       "      <td>0</td>\n",
       "      <td>0.0</td>\n",
       "      <td>10</td>\n",
       "      <td>6.0</td>\n",
       "      <td>Never</td>\n",
       "      <td>Always</td>\n",
       "      <td>1</td>\n",
       "    </tr>\n",
       "    <tr>\n",
       "      <th>...</th>\n",
       "      <td>...</td>\n",
       "      <td>...</td>\n",
       "      <td>...</td>\n",
       "      <td>...</td>\n",
       "      <td>...</td>\n",
       "      <td>...</td>\n",
       "      <td>...</td>\n",
       "      <td>...</td>\n",
       "    </tr>\n",
       "    <tr>\n",
       "      <th>80</th>\n",
       "      <td>2.0</td>\n",
       "      <td>0</td>\n",
       "      <td>NaN</td>\n",
       "      <td>2</td>\n",
       "      <td>11.0</td>\n",
       "      <td>Never</td>\n",
       "      <td>Often</td>\n",
       "      <td>0</td>\n",
       "    </tr>\n",
       "    <tr>\n",
       "      <th>81</th>\n",
       "      <td>3.0</td>\n",
       "      <td>2</td>\n",
       "      <td>NaN</td>\n",
       "      <td>30</td>\n",
       "      <td>8.0</td>\n",
       "      <td>Once</td>\n",
       "      <td>Sometimes</td>\n",
       "      <td>0</td>\n",
       "    </tr>\n",
       "    <tr>\n",
       "      <th>82</th>\n",
       "      <td>2.0</td>\n",
       "      <td>2</td>\n",
       "      <td>0.0</td>\n",
       "      <td>20</td>\n",
       "      <td>9.0</td>\n",
       "      <td>Once</td>\n",
       "      <td>Sometimes</td>\n",
       "      <td>0</td>\n",
       "    </tr>\n",
       "    <tr>\n",
       "      <th>83</th>\n",
       "      <td>1.0</td>\n",
       "      <td>1</td>\n",
       "      <td>NaN</td>\n",
       "      <td>1</td>\n",
       "      <td>8.0</td>\n",
       "      <td>Once</td>\n",
       "      <td>Sometimes</td>\n",
       "      <td>0</td>\n",
       "    </tr>\n",
       "    <tr>\n",
       "      <th>84</th>\n",
       "      <td>1.0</td>\n",
       "      <td>3</td>\n",
       "      <td>0.0</td>\n",
       "      <td>70</td>\n",
       "      <td>10.0</td>\n",
       "      <td>2–3 times</td>\n",
       "      <td>Sometimes</td>\n",
       "      <td>1</td>\n",
       "    </tr>\n",
       "  </tbody>\n",
       "</table>\n",
       "<p>85 rows × 8 columns</p>\n",
       "</div>"
      ],
      "text/plain": [
       "    ScreenTime  NightModeScore  MultitaskScore  \\\n",
       "0          4.0               1             2.0   \n",
       "1          1.0               1             NaN   \n",
       "2          5.0               1             2.0   \n",
       "3          3.0               2             2.0   \n",
       "4          2.0               0             0.0   \n",
       "..         ...             ...             ...   \n",
       "80         2.0               0             NaN   \n",
       "81         3.0               2             NaN   \n",
       "82         2.0               2             0.0   \n",
       "83         1.0               1             NaN   \n",
       "84         1.0               3             0.0   \n",
       "\n",
       "    How long does it usually take you to fall asleep after turning off screens? (in minutes)  \\\n",
       "0                                                  10                                          \n",
       "1                                                  30                                          \n",
       "2                                                  20                                          \n",
       "3                                                  30                                          \n",
       "4                                                  10                                          \n",
       "..                                                ...                                          \n",
       "80                                                  2                                          \n",
       "81                                                 30                                          \n",
       "82                                                 20                                          \n",
       "83                                                  1                                          \n",
       "84                                                 70                                          \n",
       "\n",
       "    On average, how many hours of sleep do you get on weekdays?  \\\n",
       "0                                                 7.0             \n",
       "1                                                12.0             \n",
       "2                                                 7.0             \n",
       "3                                                 8.0             \n",
       "4                                                 6.0             \n",
       "..                                                ...             \n",
       "80                                               11.0             \n",
       "81                                                8.0             \n",
       "82                                                9.0             \n",
       "83                                                8.0             \n",
       "84                                               10.0             \n",
       "\n",
       "   How often do you wake up during the night?  \\\n",
       "0                           More than 3 times   \n",
       "1                                       Never   \n",
       "2                                       Never   \n",
       "3                                        Once   \n",
       "4                                       Never   \n",
       "..                                        ...   \n",
       "80                                      Never   \n",
       "81                                       Once   \n",
       "82                                       Once   \n",
       "83                                       Once   \n",
       "84                                  2–3 times   \n",
       "\n",
       "   Do you feel well-rested after waking up in the morning?  Poor Sleep  \n",
       "0                                               Often                1  \n",
       "1                                               Often                0  \n",
       "2                                              Always                0  \n",
       "3                                               Often                0  \n",
       "4                                              Always                1  \n",
       "..                                                ...              ...  \n",
       "80                                              Often                0  \n",
       "81                                          Sometimes                0  \n",
       "82                                          Sometimes                0  \n",
       "83                                          Sometimes                0  \n",
       "84                                          Sometimes                1  \n",
       "\n",
       "[85 rows x 8 columns]"
      ]
     },
     "execution_count": 83,
     "metadata": {},
     "output_type": "execute_result"
    }
   ],
   "source": [
    "df_model"
   ]
  },
  {
   "cell_type": "markdown",
   "id": "c4cdb629",
   "metadata": {},
   "source": [
    "###  Encode categorical columns"
   ]
  },
  {
   "cell_type": "code",
   "execution_count": 84,
   "id": "67916fbd",
   "metadata": {},
   "outputs": [],
   "source": [
    "\n",
    "df_encoded = df_model.copy()\n",
    "for col in df_encoded.select_dtypes(include='object').columns:\n",
    "    le = LabelEncoder()\n",
    "    df_encoded[col] = le.fit_transform(df_encoded[col])\n",
    "    \n",
    "df_encoded = df_encoded.fillna(df_encoded.median())"
   ]
  },
  {
   "cell_type": "markdown",
   "id": "371d63c0",
   "metadata": {},
   "source": [
    "### Prepare features and target"
   ]
  },
  {
   "cell_type": "code",
   "execution_count": 85,
   "id": "d2d2f0cb",
   "metadata": {},
   "outputs": [],
   "source": [
    "\n",
    "X = df_encoded.drop(columns=[\"Poor Sleep\"])\n",
    "y = df_encoded[\"Poor Sleep\"]\n",
    "\n",
    "\n",
    "\n",
    "scaler = StandardScaler()\n",
    "X_scaled = scaler.fit_transform(X)"
   ]
  },
  {
   "cell_type": "code",
   "execution_count": 86,
   "id": "eab53aa2",
   "metadata": {},
   "outputs": [],
   "source": [
    "X_train, X_test, y_train, y_test = train_test_split(X_scaled, y, test_size=0.25, random_state=42)"
   ]
  },
  {
   "cell_type": "markdown",
   "id": "46debc74",
   "metadata": {},
   "source": [
    "### Train models"
   ]
  },
  {
   "cell_type": "code",
   "execution_count": 106,
   "id": "3b0749b9",
   "metadata": {},
   "outputs": [],
   "source": [
    "rf_model = RandomForestClassifier(random_state=42)"
   ]
  },
  {
   "cell_type": "markdown",
   "id": "f2f49f06",
   "metadata": {},
   "source": [
    "### Support Vector Regression "
   ]
  },
  {
   "cell_type": "code",
   "execution_count": 107,
   "id": "888d7455",
   "metadata": {},
   "outputs": [
    {
     "name": "stdout",
     "output_type": "stream",
     "text": [
      "SVR Mean Squared Error: 0.1559842028400062\n",
      "SVR R² Score: 0.37606318863997523\n"
     ]
    }
   ],
   "source": [
    "svr = SVR(kernel='rbf')\n",
    "svr.fit(X_train, y_train)\n",
    "\n",
    "# Predict and evaluate\n",
    "y_pred = svr.predict(X_test)\n",
    "mse = mean_squared_error(y_test, y_pred)\n",
    "r2 = r2_score(y_test, y_pred)\n",
    "\n",
    "print(\"SVR Mean Squared Error:\", mse)\n",
    "print(\"SVR R² Score:\", r2)"
   ]
  },
  {
   "cell_type": "code",
   "execution_count": 108,
   "id": "5ea55f67",
   "metadata": {},
   "outputs": [
    {
     "data": {
      "text/html": [
       "<style>#sk-container-id-2 {color: black;}#sk-container-id-2 pre{padding: 0;}#sk-container-id-2 div.sk-toggleable {background-color: white;}#sk-container-id-2 label.sk-toggleable__label {cursor: pointer;display: block;width: 100%;margin-bottom: 0;padding: 0.3em;box-sizing: border-box;text-align: center;}#sk-container-id-2 label.sk-toggleable__label-arrow:before {content: \"▸\";float: left;margin-right: 0.25em;color: #696969;}#sk-container-id-2 label.sk-toggleable__label-arrow:hover:before {color: black;}#sk-container-id-2 div.sk-estimator:hover label.sk-toggleable__label-arrow:before {color: black;}#sk-container-id-2 div.sk-toggleable__content {max-height: 0;max-width: 0;overflow: hidden;text-align: left;background-color: #f0f8ff;}#sk-container-id-2 div.sk-toggleable__content pre {margin: 0.2em;color: black;border-radius: 0.25em;background-color: #f0f8ff;}#sk-container-id-2 input.sk-toggleable__control:checked~div.sk-toggleable__content {max-height: 200px;max-width: 100%;overflow: auto;}#sk-container-id-2 input.sk-toggleable__control:checked~label.sk-toggleable__label-arrow:before {content: \"▾\";}#sk-container-id-2 div.sk-estimator input.sk-toggleable__control:checked~label.sk-toggleable__label {background-color: #d4ebff;}#sk-container-id-2 div.sk-label input.sk-toggleable__control:checked~label.sk-toggleable__label {background-color: #d4ebff;}#sk-container-id-2 input.sk-hidden--visually {border: 0;clip: rect(1px 1px 1px 1px);clip: rect(1px, 1px, 1px, 1px);height: 1px;margin: -1px;overflow: hidden;padding: 0;position: absolute;width: 1px;}#sk-container-id-2 div.sk-estimator {font-family: monospace;background-color: #f0f8ff;border: 1px dotted black;border-radius: 0.25em;box-sizing: border-box;margin-bottom: 0.5em;}#sk-container-id-2 div.sk-estimator:hover {background-color: #d4ebff;}#sk-container-id-2 div.sk-parallel-item::after {content: \"\";width: 100%;border-bottom: 1px solid gray;flex-grow: 1;}#sk-container-id-2 div.sk-label:hover label.sk-toggleable__label {background-color: #d4ebff;}#sk-container-id-2 div.sk-serial::before {content: \"\";position: absolute;border-left: 1px solid gray;box-sizing: border-box;top: 0;bottom: 0;left: 50%;z-index: 0;}#sk-container-id-2 div.sk-serial {display: flex;flex-direction: column;align-items: center;background-color: white;padding-right: 0.2em;padding-left: 0.2em;position: relative;}#sk-container-id-2 div.sk-item {position: relative;z-index: 1;}#sk-container-id-2 div.sk-parallel {display: flex;align-items: stretch;justify-content: center;background-color: white;position: relative;}#sk-container-id-2 div.sk-item::before, #sk-container-id-2 div.sk-parallel-item::before {content: \"\";position: absolute;border-left: 1px solid gray;box-sizing: border-box;top: 0;bottom: 0;left: 50%;z-index: -1;}#sk-container-id-2 div.sk-parallel-item {display: flex;flex-direction: column;z-index: 1;position: relative;background-color: white;}#sk-container-id-2 div.sk-parallel-item:first-child::after {align-self: flex-end;width: 50%;}#sk-container-id-2 div.sk-parallel-item:last-child::after {align-self: flex-start;width: 50%;}#sk-container-id-2 div.sk-parallel-item:only-child::after {width: 0;}#sk-container-id-2 div.sk-dashed-wrapped {border: 1px dashed gray;margin: 0 0.4em 0.5em 0.4em;box-sizing: border-box;padding-bottom: 0.4em;background-color: white;}#sk-container-id-2 div.sk-label label {font-family: monospace;font-weight: bold;display: inline-block;line-height: 1.2em;}#sk-container-id-2 div.sk-label-container {text-align: center;}#sk-container-id-2 div.sk-container {/* jupyter's `normalize.less` sets `[hidden] { display: none; }` but bootstrap.min.css set `[hidden] { display: none !important; }` so we also need the `!important` here to be able to override the default hidden behavior on the sphinx rendered scikit-learn.org. See: https://github.com/scikit-learn/scikit-learn/issues/21755 */display: inline-block !important;position: relative;}#sk-container-id-2 div.sk-text-repr-fallback {display: none;}</style><div id=\"sk-container-id-2\" class=\"sk-top-container\"><div class=\"sk-text-repr-fallback\"><pre>RandomForestClassifier(random_state=42)</pre><b>In a Jupyter environment, please rerun this cell to show the HTML representation or trust the notebook. <br />On GitHub, the HTML representation is unable to render, please try loading this page with nbviewer.org.</b></div><div class=\"sk-container\" hidden><div class=\"sk-item\"><div class=\"sk-estimator sk-toggleable\"><input class=\"sk-toggleable__control sk-hidden--visually\" id=\"sk-estimator-id-2\" type=\"checkbox\" checked><label for=\"sk-estimator-id-2\" class=\"sk-toggleable__label sk-toggleable__label-arrow\">RandomForestClassifier</label><div class=\"sk-toggleable__content\"><pre>RandomForestClassifier(random_state=42)</pre></div></div></div></div></div>"
      ],
      "text/plain": [
       "RandomForestClassifier(random_state=42)"
      ]
     },
     "execution_count": 108,
     "metadata": {},
     "output_type": "execute_result"
    }
   ],
   "source": [
    "rf_model.fit(X_train, y_train)"
   ]
  },
  {
   "cell_type": "markdown",
   "id": "bd0fd6f6",
   "metadata": {},
   "source": [
    "### Evaluate models"
   ]
  },
  {
   "cell_type": "code",
   "execution_count": 95,
   "id": "9450ae9d",
   "metadata": {},
   "outputs": [],
   "source": [
    "rf_acc = accuracy_score(y_test, rf_model.predict(X_test))"
   ]
  },
  {
   "cell_type": "code",
   "execution_count": 109,
   "id": "fa0193d1",
   "metadata": {},
   "outputs": [
    {
     "name": "stdout",
     "output_type": "stream",
     "text": [
      "Random Forest Accuracy: 0.9090909090909091\n"
     ]
    }
   ],
   "source": [
    "print(\"Random Forest Accuracy:\", rf_acc)"
   ]
  },
  {
   "cell_type": "code",
   "execution_count": 98,
   "id": "5af08a4a",
   "metadata": {},
   "outputs": [
    {
     "name": "stdout",
     "output_type": "stream",
     "text": [
      "Mean Squared Error: 0.09090909090909091\n",
      "R2 Score: 0.6363636363636364\n"
     ]
    }
   ],
   "source": [
    "print(\"Mean Squared Error:\", mean_squared_error(y_test,  rf_model.predict(X_test)))\n",
    "print(\"R2 Score:\", r2_score(y_test, rf_model.predict(X_test)))"
   ]
  }
 ],
 "metadata": {
  "kernelspec": {
   "display_name": "Python 3 (ipykernel)",
   "language": "python",
   "name": "python3"
  },
  "language_info": {
   "codemirror_mode": {
    "name": "ipython",
    "version": 3
   },
   "file_extension": ".py",
   "mimetype": "text/x-python",
   "name": "python",
   "nbconvert_exporter": "python",
   "pygments_lexer": "ipython3",
   "version": "3.11.5"
  }
 },
 "nbformat": 4,
 "nbformat_minor": 5
}
